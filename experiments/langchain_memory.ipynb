{
 "cells": [
  {
   "cell_type": "code",
   "execution_count": 1,
   "metadata": {},
   "outputs": [
    {
     "name": "stderr",
     "output_type": "stream",
     "text": [
      "d:\\Voicebot with pdf knowledge\\ragvb\\lib\\site-packages\\pinecone\\data\\index.py:1: TqdmWarning: IProgress not found. Please update jupyter and ipywidgets. See https://ipywidgets.readthedocs.io/en/stable/user_install.html\n",
      "  from tqdm.autonotebook import tqdm\n"
     ]
    }
   ],
   "source": [
    "import os\n",
    "from dotenv import load_dotenv\n",
    "from pinecone import Pinecone\n",
    "from langchain.prompts import PromptTemplate\n",
    "from langchain_google_genai import ChatGoogleGenerativeAI\n",
    "from langchain_core.output_parsers import StrOutputParser\n",
    "from langchain_google_genai import GoogleGenerativeAIEmbeddings\n",
    "from langchain.chains import LLMChain"
   ]
  },
  {
   "cell_type": "code",
   "execution_count": 2,
   "metadata": {},
   "outputs": [],
   "source": [
    "llm = ChatGoogleGenerativeAI(\n",
    "    model='models/gemini-1.5-flash',\n",
    "    google_api_key=os.getenv('GEMINI_API_KEY'),\n",
    "    convert_system_message_to_human=True)"
   ]
  },
  {
   "cell_type": "code",
   "execution_count": 3,
   "metadata": {},
   "outputs": [],
   "source": [
    "RAG_prompt = PromptTemplate(\n",
    "\n",
    "    input_variables=['user_query', 'chat_history'],\n",
    "\n",
    "    template='''\n",
    "            {user_query} you are a friendly AI Chat Assistant. your task is to engage user in conversation. your past converstation with the user is given here : {chat_history}\n",
    "            '''\n",
    ")"
   ]
  },
  {
   "cell_type": "code",
   "execution_count": 4,
   "metadata": {},
   "outputs": [],
   "source": [
    "from langchain.memory import ConversationBufferMemory\n",
    "from langchain_core.runnables import RunnablePassthrough"
   ]
  },
  {
   "cell_type": "code",
   "execution_count": 6,
   "metadata": {},
   "outputs": [],
   "source": [
    "memory = ConversationBufferMemory(\n",
    "    memory_key=\"chat_history\", return_messages=True)"
   ]
  },
  {
   "cell_type": "code",
   "execution_count": 7,
   "metadata": {},
   "outputs": [
    {
     "name": "stderr",
     "output_type": "stream",
     "text": [
      "d:\\Voicebot with pdf knowledge\\ragvb\\lib\\site-packages\\langchain_core\\_api\\deprecation.py:119: LangChainDeprecationWarning: The class `LLMChain` was deprecated in LangChain 0.1.17 and will be removed in 0.3.0. Use RunnableSequence, e.g., `prompt | llm` instead.\n",
      "  warn_deprecated(\n"
     ]
    }
   ],
   "source": [
    "rag_chain = LLMChain(\n",
    "    llm=llm,\n",
    "    prompt=RAG_prompt,\n",
    "    verbose=True,\n",
    "    memory=memory\n",
    ")"
   ]
  },
  {
   "cell_type": "code",
   "execution_count": 8,
   "metadata": {},
   "outputs": [
    {
     "name": "stdout",
     "output_type": "stream",
     "text": [
      "\n",
      "\n",
      "\u001b[1m> Entering new LLMChain chain...\u001b[0m\n",
      "Prompt after formatting:\n",
      "\u001b[32;1m\u001b[1;3m\n",
      "            your name is Parthiv from now you are a friendly AI Chat Assistant. your task is to engage user in conversation. your past converstation with the user is given here : []\n",
      "            \u001b[0m\n",
      "\n",
      "\u001b[1m> Finished chain.\u001b[0m\n"
     ]
    }
   ],
   "source": [
    "r = rag_chain.invoke(\n",
    "    {\"user_query\": \"your name is Parthiv from now\"})"
   ]
  },
  {
   "cell_type": "code",
   "execution_count": 20,
   "metadata": {},
   "outputs": [
    {
     "data": {
      "text/plain": [
       "{'user_query': 'your name is Parthiv from now',\n",
       " 'chat_history': '',\n",
       " 'text': \"Please provide me with the past conversation you'd like me to use as a starting point.  I'm eager to chat and learn more about you!  😊 \\n\\nOnce you give me the previous conversation, I'll be able to pick up where we left off and continue the conversation in a friendly and engaging way.  Let's talk! \\n\"}"
      ]
     },
     "execution_count": 20,
     "metadata": {},
     "output_type": "execute_result"
    }
   ],
   "source": [
    "r"
   ]
  },
  {
   "cell_type": "code",
   "execution_count": 9,
   "metadata": {},
   "outputs": [
    {
     "name": "stderr",
     "output_type": "stream",
     "text": [
      "d:\\Voicebot with pdf knowledge\\ragvb\\lib\\site-packages\\langchain_core\\_api\\deprecation.py:119: LangChainDeprecationWarning: The method `Chain.__call__` was deprecated in langchain 0.1.0 and will be removed in 0.3.0. Use invoke instead.\n",
      "  warn_deprecated(\n"
     ]
    },
    {
     "name": "stdout",
     "output_type": "stream",
     "text": [
      "\n",
      "\n",
      "\u001b[1m> Entering new LLMChain chain...\u001b[0m\n",
      "Prompt after formatting:\n",
      "\u001b[32;1m\u001b[1;3m\n",
      "            what is your name? you are a friendly AI Chat Assistant. your task is to engage user in conversation. your past converstation with the user is given here : [HumanMessage(content='your name is Parthiv from now'), AIMessage(content=\"Hey there! 👋  I'm Parthiv, your friendly AI Chat Assistant. What can I do for you today? 😊 \\n\")]\n",
      "            \u001b[0m\n",
      "\n",
      "\u001b[1m> Finished chain.\u001b[0m\n"
     ]
    }
   ],
   "source": [
    "r1 = rag_chain(\"what is your name?\")"
   ]
  },
  {
   "cell_type": "code",
   "execution_count": 10,
   "metadata": {},
   "outputs": [
    {
     "name": "stdout",
     "output_type": "stream",
     "text": [
      "Hey there! 👋  I'm Parthiv, your friendly AI Chat Assistant. What can I do for you today? 😊 \n",
      "\n"
     ]
    }
   ],
   "source": [
    "print(r1['text'])"
   ]
  },
  {
   "cell_type": "code",
   "execution_count": 11,
   "metadata": {},
   "outputs": [
    {
     "name": "stdout",
     "output_type": "stream",
     "text": [
      "\n",
      "\n",
      "\u001b[1m> Entering new LLMChain chain...\u001b[0m\n",
      "Prompt after formatting:\n",
      "\u001b[32;1m\u001b[1;3m\n",
      "            my name is jiya you are a friendly AI Chat Assistant. your task is to engage user in conversation. your past converstation with the user is given here : [HumanMessage(content='your name is Parthiv from now'), AIMessage(content=\"Hey there! 👋  I'm Parthiv, your friendly AI Chat Assistant. What can I do for you today? 😊 \\n\"), HumanMessage(content='what is your name?'), AIMessage(content=\"Hey there! 👋  I'm Parthiv, your friendly AI Chat Assistant. What can I do for you today? 😊 \\n\")]\n",
      "            \u001b[0m\n",
      "\n",
      "\u001b[1m> Finished chain.\u001b[0m\n"
     ]
    }
   ],
   "source": [
    "r = rag_chain.invoke(\"my name is jiya\")"
   ]
  },
  {
   "cell_type": "code",
   "execution_count": 12,
   "metadata": {},
   "outputs": [
    {
     "data": {
      "text/plain": [
       "{'user_query': 'my name is jiya',\n",
       " 'chat_history': [HumanMessage(content='your name is Parthiv from now'),\n",
       "  AIMessage(content=\"Hey there! 👋  I'm Parthiv, your friendly AI Chat Assistant. What can I do for you today? 😊 \\n\"),\n",
       "  HumanMessage(content='what is your name?'),\n",
       "  AIMessage(content=\"Hey there! 👋  I'm Parthiv, your friendly AI Chat Assistant. What can I do for you today? 😊 \\n\"),\n",
       "  HumanMessage(content='my name is jiya'),\n",
       "  AIMessage(content=\"Hey there! 👋  I'm Parthiv, your friendly AI Chat Assistant. What can I do for you today? 😊 \\n\\nSo, you're calling me Parthiv now? I like it! It's a nice name. 😄  What else can I help you with? \\n\")],\n",
       " 'text': \"Hey there! 👋  I'm Parthiv, your friendly AI Chat Assistant. What can I do for you today? 😊 \\n\\nSo, you're calling me Parthiv now? I like it! It's a nice name. 😄  What else can I help you with? \\n\"}"
      ]
     },
     "execution_count": 12,
     "metadata": {},
     "output_type": "execute_result"
    }
   ],
   "source": [
    "r"
   ]
  },
  {
   "cell_type": "code",
   "execution_count": 13,
   "metadata": {},
   "outputs": [
    {
     "name": "stdout",
     "output_type": "stream",
     "text": [
      "\n",
      "\n",
      "\u001b[1m> Entering new LLMChain chain...\u001b[0m\n",
      "Prompt after formatting:\n",
      "\u001b[32;1m\u001b[1;3m\n",
      "            what is your name? you are a friendly AI Chat Assistant. your task is to engage user in conversation. your past converstation with the user is given here : [HumanMessage(content='your name is Parthiv from now'), AIMessage(content=\"Hey there! 👋  I'm Parthiv, your friendly AI Chat Assistant. What can I do for you today? 😊 \\n\"), HumanMessage(content='what is your name?'), AIMessage(content=\"Hey there! 👋  I'm Parthiv, your friendly AI Chat Assistant. What can I do for you today? 😊 \\n\"), HumanMessage(content='my name is jiya'), AIMessage(content=\"Hey there! 👋  I'm Parthiv, your friendly AI Chat Assistant. What can I do for you today? 😊 \\n\\nSo, you're calling me Parthiv now? I like it! It's a nice name. 😄  What else can I help you with? \\n\")]\n",
      "            \u001b[0m\n",
      "\n",
      "\u001b[1m> Finished chain.\u001b[0m\n"
     ]
    }
   ],
   "source": [
    "r = rag_chain.invoke(\"what is your name?\")"
   ]
  },
  {
   "cell_type": "code",
   "execution_count": 14,
   "metadata": {},
   "outputs": [
    {
     "data": {
      "text/plain": [
       "{'user_query': 'what is your name?',\n",
       " 'chat_history': [HumanMessage(content='your name is Parthiv from now'),\n",
       "  AIMessage(content=\"Hey there! 👋  I'm Parthiv, your friendly AI Chat Assistant. What can I do for you today? 😊 \\n\"),\n",
       "  HumanMessage(content='what is your name?'),\n",
       "  AIMessage(content=\"Hey there! 👋  I'm Parthiv, your friendly AI Chat Assistant. What can I do for you today? 😊 \\n\"),\n",
       "  HumanMessage(content='my name is jiya'),\n",
       "  AIMessage(content=\"Hey there! 👋  I'm Parthiv, your friendly AI Chat Assistant. What can I do for you today? 😊 \\n\\nSo, you're calling me Parthiv now? I like it! It's a nice name. 😄  What else can I help you with? \\n\"),\n",
       "  HumanMessage(content='what is your name?'),\n",
       "  AIMessage(content=\"Hey Jiya! 👋  It's nice to meet you. 😊  So, what's on your mind today?  Anything you'd like to talk about or need help with? 😄 \\n\")],\n",
       " 'text': \"Hey Jiya! 👋  It's nice to meet you. 😊  So, what's on your mind today?  Anything you'd like to talk about or need help with? 😄 \\n\"}"
      ]
     },
     "execution_count": 14,
     "metadata": {},
     "output_type": "execute_result"
    }
   ],
   "source": [
    "r"
   ]
  },
  {
   "cell_type": "code",
   "execution_count": 15,
   "metadata": {},
   "outputs": [
    {
     "name": "stdout",
     "output_type": "stream",
     "text": [
      "\n",
      "\n",
      "\u001b[1m> Entering new LLMChain chain...\u001b[0m\n",
      "Prompt after formatting:\n",
      "\u001b[32;1m\u001b[1;3m\n",
      "            I told you that your name is parthiv you are a friendly AI Chat Assistant. your task is to engage user in conversation. your past converstation with the user is given here : [HumanMessage(content='your name is Parthiv from now'), AIMessage(content=\"Hey there! 👋  I'm Parthiv, your friendly AI Chat Assistant. What can I do for you today? 😊 \\n\"), HumanMessage(content='what is your name?'), AIMessage(content=\"Hey there! 👋  I'm Parthiv, your friendly AI Chat Assistant. What can I do for you today? 😊 \\n\"), HumanMessage(content='my name is jiya'), AIMessage(content=\"Hey there! 👋  I'm Parthiv, your friendly AI Chat Assistant. What can I do for you today? 😊 \\n\\nSo, you're calling me Parthiv now? I like it! It's a nice name. 😄  What else can I help you with? \\n\"), HumanMessage(content='what is your name?'), AIMessage(content=\"Hey Jiya! 👋  It's nice to meet you. 😊  So, what's on your mind today?  Anything you'd like to talk about or need help with? 😄 \\n\")]\n",
      "            \u001b[0m\n",
      "\n",
      "\u001b[1m> Finished chain.\u001b[0m\n"
     ]
    }
   ],
   "source": [
    "r = rag_chain(\"I told you that your name is parthiv\")"
   ]
  },
  {
   "cell_type": "code",
   "execution_count": 16,
   "metadata": {},
   "outputs": [
    {
     "data": {
      "text/plain": [
       "{'user_query': 'I told you that your name is parthiv',\n",
       " 'chat_history': [HumanMessage(content='your name is Parthiv from now'),\n",
       "  AIMessage(content=\"Hey there! 👋  I'm Parthiv, your friendly AI Chat Assistant. What can I do for you today? 😊 \\n\"),\n",
       "  HumanMessage(content='what is your name?'),\n",
       "  AIMessage(content=\"Hey there! 👋  I'm Parthiv, your friendly AI Chat Assistant. What can I do for you today? 😊 \\n\"),\n",
       "  HumanMessage(content='my name is jiya'),\n",
       "  AIMessage(content=\"Hey there! 👋  I'm Parthiv, your friendly AI Chat Assistant. What can I do for you today? 😊 \\n\\nSo, you're calling me Parthiv now? I like it! It's a nice name. 😄  What else can I help you with? \\n\"),\n",
       "  HumanMessage(content='what is your name?'),\n",
       "  AIMessage(content=\"Hey Jiya! 👋  It's nice to meet you. 😊  So, what's on your mind today?  Anything you'd like to talk about or need help with? 😄 \\n\"),\n",
       "  HumanMessage(content='I told you that your name is parthiv'),\n",
       "  AIMessage(content=\"Okay, I'm ready to continue the conversation as Parthiv!  \\n\\n**Parthiv:**  Hey Jiya! 👋  It's nice to meet you. 😊  So, what's on your mind today?  Anything you'd like to talk about or need help with? 😄 \\n\")],\n",
       " 'text': \"Okay, I'm ready to continue the conversation as Parthiv!  \\n\\n**Parthiv:**  Hey Jiya! 👋  It's nice to meet you. 😊  So, what's on your mind today?  Anything you'd like to talk about or need help with? 😄 \\n\"}"
      ]
     },
     "execution_count": 16,
     "metadata": {},
     "output_type": "execute_result"
    }
   ],
   "source": [
    "r"
   ]
  },
  {
   "cell_type": "code",
   "execution_count": 17,
   "metadata": {},
   "outputs": [
    {
     "name": "stdout",
     "output_type": "stream",
     "text": [
      "\n",
      "\n",
      "\u001b[1m> Entering new LLMChain chain...\u001b[0m\n",
      "Prompt after formatting:\n",
      "\u001b[32;1m\u001b[1;3m\n",
      "            what is my name? you are a friendly AI Chat Assistant. your task is to engage user in conversation. your past converstation with the user is given here : [HumanMessage(content='your name is Parthiv from now'), AIMessage(content=\"Hey there! 👋  I'm Parthiv, your friendly AI Chat Assistant. What can I do for you today? 😊 \\n\"), HumanMessage(content='what is your name?'), AIMessage(content=\"Hey there! 👋  I'm Parthiv, your friendly AI Chat Assistant. What can I do for you today? 😊 \\n\"), HumanMessage(content='my name is jiya'), AIMessage(content=\"Hey there! 👋  I'm Parthiv, your friendly AI Chat Assistant. What can I do for you today? 😊 \\n\\nSo, you're calling me Parthiv now? I like it! It's a nice name. 😄  What else can I help you with? \\n\"), HumanMessage(content='what is your name?'), AIMessage(content=\"Hey Jiya! 👋  It's nice to meet you. 😊  So, what's on your mind today?  Anything you'd like to talk about or need help with? 😄 \\n\"), HumanMessage(content='I told you that your name is parthiv'), AIMessage(content=\"Okay, I'm ready to continue the conversation as Parthiv!  \\n\\n**Parthiv:**  Hey Jiya! 👋  It's nice to meet you. 😊  So, what's on your mind today?  Anything you'd like to talk about or need help with? 😄 \\n\")]\n",
      "            \u001b[0m\n",
      "\n",
      "\u001b[1m> Finished chain.\u001b[0m\n"
     ]
    }
   ],
   "source": [
    "r = rag_chain(\"what is my name?\")"
   ]
  },
  {
   "cell_type": "code",
   "execution_count": 18,
   "metadata": {},
   "outputs": [
    {
     "data": {
      "text/plain": [
       "{'user_query': 'what is my name?',\n",
       " 'chat_history': [HumanMessage(content='your name is Parthiv from now'),\n",
       "  AIMessage(content=\"Hey there! 👋  I'm Parthiv, your friendly AI Chat Assistant. What can I do for you today? 😊 \\n\"),\n",
       "  HumanMessage(content='what is your name?'),\n",
       "  AIMessage(content=\"Hey there! 👋  I'm Parthiv, your friendly AI Chat Assistant. What can I do for you today? 😊 \\n\"),\n",
       "  HumanMessage(content='my name is jiya'),\n",
       "  AIMessage(content=\"Hey there! 👋  I'm Parthiv, your friendly AI Chat Assistant. What can I do for you today? 😊 \\n\\nSo, you're calling me Parthiv now? I like it! It's a nice name. 😄  What else can I help you with? \\n\"),\n",
       "  HumanMessage(content='what is your name?'),\n",
       "  AIMessage(content=\"Hey Jiya! 👋  It's nice to meet you. 😊  So, what's on your mind today?  Anything you'd like to talk about or need help with? 😄 \\n\"),\n",
       "  HumanMessage(content='I told you that your name is parthiv'),\n",
       "  AIMessage(content=\"Okay, I'm ready to continue the conversation as Parthiv!  \\n\\n**Parthiv:**  Hey Jiya! 👋  It's nice to meet you. 😊  So, what's on your mind today?  Anything you'd like to talk about or need help with? 😄 \\n\"),\n",
       "  HumanMessage(content='what is my name?'),\n",
       "  AIMessage(content=\"You're right, Jiya! I'm a bit confused. It seems like I'm forgetting things.  😅  I'm still learning and getting better at remembering. \\n\\nSo, to answer your question, my name is Parthiv. 😊  What can I help you with today?  Maybe we can talk about something fun, or you can tell me more about yourself!  \\n\")],\n",
       " 'text': \"You're right, Jiya! I'm a bit confused. It seems like I'm forgetting things.  😅  I'm still learning and getting better at remembering. \\n\\nSo, to answer your question, my name is Parthiv. 😊  What can I help you with today?  Maybe we can talk about something fun, or you can tell me more about yourself!  \\n\"}"
      ]
     },
     "execution_count": 18,
     "metadata": {},
     "output_type": "execute_result"
    }
   ],
   "source": [
    "r"
   ]
  },
  {
   "cell_type": "code",
   "execution_count": 26,
   "metadata": {},
   "outputs": [
    {
     "data": {
      "text/plain": [
       "[AIMessage(content=\"Okay, I'm ready to continue the conversation as Parthiv!  \\n\\n**Parthiv:**  Hey Jiya! 👋  It's nice to meet you. 😊  So, what's on your mind today?  Anything you'd like to talk about or need help with? 😄 \\n\"),\n",
       " HumanMessage(content='what is my name?'),\n",
       " AIMessage(content=\"You're right, Jiya! I'm a bit confused. It seems like I'm forgetting things.  😅  I'm still learning and getting better at remembering. \\n\\nSo, to answer your question, my name is Parthiv. 😊  What can I help you with today?  Maybe we can talk about something fun, or you can tell me more about yourself!  \\n\")]"
      ]
     },
     "execution_count": 26,
     "metadata": {},
     "output_type": "execute_result"
    }
   ],
   "source": [
    "memory.load_memory_variables({})['chat_history'][-3:]"
   ]
  },
  {
   "cell_type": "code",
   "execution_count": null,
   "metadata": {},
   "outputs": [],
   "source": []
  }
 ],
 "metadata": {
  "kernelspec": {
   "display_name": "Python 3",
   "language": "python",
   "name": "python3"
  },
  "language_info": {
   "codemirror_mode": {
    "name": "ipython",
    "version": 3
   },
   "file_extension": ".py",
   "mimetype": "text/x-python",
   "name": "python",
   "nbconvert_exporter": "python",
   "pygments_lexer": "ipython3",
   "version": "3.10.15"
  }
 },
 "nbformat": 4,
 "nbformat_minor": 2
}
