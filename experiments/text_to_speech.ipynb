{
 "cells": [
  {
   "cell_type": "code",
   "execution_count": null,
   "metadata": {},
   "outputs": [],
   "source": [
    "# !pip install pygame gtts"
   ]
  },
  {
   "cell_type": "code",
   "execution_count": 1,
   "metadata": {},
   "outputs": [
    {
     "name": "stdout",
     "output_type": "stream",
     "text": [
      "pygame 2.6.0 (SDL 2.28.4, Python 3.10.14)\n",
      "Hello from the pygame community. https://www.pygame.org/contribute.html\n"
     ]
    }
   ],
   "source": [
    "import os\n",
    "import time\n",
    "import pygame\n",
    "from gtts import gTTS"
   ]
  },
  {
   "cell_type": "code",
   "execution_count": 2,
   "metadata": {},
   "outputs": [],
   "source": [
    "def play_text_to_speech(text, language='en', slow=False):\n",
    "    tts = gTTS(text=text, lang=language, slow=slow)\n",
    "\n",
    "    temp_audio_file = \"temp_audio.mp3\"\n",
    "    tts.save(temp_audio_file)\n",
    "\n",
    "    pygame.mixer.init()\n",
    "    pygame.mixer.music.load(temp_audio_file)\n",
    "    pygame.mixer.music.play()\n",
    "\n",
    "    while pygame.mixer.music.get_busy():\n",
    "        pygame.time.Clock().tick(10)\n",
    "\n",
    "    pygame.mixer.music.stop()\n",
    "    pygame.mixer.quit()\n",
    "\n",
    "    time.sleep(3)\n",
    "    os.remove(temp_audio_file)"
   ]
  },
  {
   "cell_type": "code",
   "execution_count": 3,
   "metadata": {},
   "outputs": [],
   "source": [
    "text = \"hello there, what is your name? and how do you speak so nicely with humans? are you ok with the activities humans have been conducting since a long time on earth?\""
   ]
  },
  {
   "cell_type": "code",
   "execution_count": 4,
   "metadata": {},
   "outputs": [],
   "source": [
    "tts = play_text_to_speech(text=text)"
   ]
  },
  {
   "cell_type": "markdown",
   "metadata": {},
   "source": [
    "Deepgram text to speech streaming"
   ]
  },
  {
   "cell_type": "code",
   "execution_count": 14,
   "metadata": {},
   "outputs": [],
   "source": [
    "DEEPGRAM_API_KEY = '4da2d752f29ae6de7ca3e0f0b57a082abe7edb36'"
   ]
  },
  {
   "cell_type": "code",
   "execution_count": 4,
   "metadata": {},
   "outputs": [
    {
     "name": "stderr",
     "output_type": "stream",
     "text": [
      "C:\\Users\\PARTHIV\\AppData\\Local\\Temp\\ipykernel_7624\\1138474891.py:16: DeprecatedWarning: v is deprecated as of 3.4.0 and will be removed in 4.0.0. deepgram.speak.v1 is deprecated. Use deepgram.speak.rest or deepgram.speak.websocket instead.\n",
      "  response = deepgram.speak.v(\"1\").save(\n",
      "Unknown speak source type\n"
     ]
    },
    {
     "name": "stdout",
     "output_type": "stream",
     "text": [
      "Exception: DeepgramTypeError: Unknown speak source type\n"
     ]
    }
   ],
   "source": [
    "from deepgram import DeepgramClient, SpeakOptions\n",
    "\n",
    "DEEPGRAM_API_KEY = \"ed6c21dc028fed3e54f468d7e2ba1e14fab76903\"\n",
    "\n",
    "FILENAME = \"audio.mp3\"\n",
    "\n",
    "\n",
    "def main():\n",
    "    try:\n",
    "        deepgram = DeepgramClient(DEEPGRAM_API_KEY)\n",
    "\n",
    "        options = SpeakOptions(\n",
    "            model=\"aura-asteria-en\",\n",
    "        )\n",
    "\n",
    "        response = deepgram.speak.v(\"1\").save(\n",
    "            FILENAME, \"hello, I am ai assistant\", options)\n",
    "        print(response.to_json(indent=4))\n",
    "\n",
    "    except Exception as e:\n",
    "        print(f\"Exception: {e}\")\n",
    "\n",
    "\n",
    "if __name__ == \"__main__\":\n",
    "    main()"
   ]
  },
  {
   "cell_type": "code",
   "execution_count": 14,
   "metadata": {},
   "outputs": [],
   "source": [
    "import os\n",
    "from dotenv import load_dotenv\n",
    "\n",
    "from deepgram import (\n",
    "    DeepgramClient,\n",
    "    SpeakOptions,\n",
    ")\n",
    "\n",
    "load_dotenv()\n",
    "\n",
    "SPEAK_OPTIONS = {\"text\": \"Hello, how can I help you today?\"}\n",
    "filename = \"output.wav\"\n",
    "\n",
    "\n",
    "def main():\n",
    "    try:\n",
    "        # STEP 1: Create a Deepgram client using the API key from environment variables\n",
    "        deepgram = DeepgramClient(api_key=os.getenv(\"DEEPGRAM_KEY\"))\n",
    "\n",
    "        # STEP 2: Configure the options (such as model choice, audio configuration, etc.)\n",
    "        options = SpeakOptions(\n",
    "            model=\"aura-asteria-en\",\n",
    "            encoding=\"linear16\",\n",
    "            container=\"wav\"\n",
    "        )\n",
    "\n",
    "        # STEP 3: Call the save method on the speak property\n",
    "        response = deepgram.speak.v(\"1\").save(filename, SPEAK_OPTIONS, options)\n",
    "        print(response.to_json(indent=4))\n",
    "        return response\n",
    "    except Exception as e:\n",
    "        print(f\"Exception: {e}\")"
   ]
  },
  {
   "cell_type": "code",
   "execution_count": 15,
   "metadata": {},
   "outputs": [
    {
     "name": "stderr",
     "output_type": "stream",
     "text": [
      "C:\\Users\\PARTHIV\\AppData\\Local\\Temp\\ipykernel_7624\\2420906347.py:28: DeprecatedWarning: v is deprecated as of 3.4.0 and will be removed in 4.0.0. deepgram.speak.v1 is deprecated. Use deepgram.speak.rest or deepgram.speak.websocket instead.\n",
      "  response = deepgram.speak.v(\"1\").save(filename, SPEAK_OPTIONS, options)\n"
     ]
    },
    {
     "name": "stdout",
     "output_type": "stream",
     "text": [
      "{\n",
      "    \"content_type\": \"audio/wav\",\n",
      "    \"request_id\": \"4ff6221e-3bec-47cd-ba6e-bd825ee9be1c\",\n",
      "    \"model_uuid\": \"06d0e057-2626-4b5a-93c6-38c3686ab88c\",\n",
      "    \"model_name\": \"aura-asteria-en\",\n",
      "    \"characters\": 32,\n",
      "    \"transfer_encoding\": \"chunked\",\n",
      "    \"date\": \"Mon, 30 Sep 2024 15:09:23 GMT\",\n",
      "    \"filename\": \"output.wav\"\n",
      "}\n"
     ]
    }
   ],
   "source": [
    "response = main()"
   ]
  },
  {
   "cell_type": "code",
   "execution_count": 20,
   "metadata": {},
   "outputs": [
    {
     "data": {
      "text/plain": [
       "'output.wav'"
      ]
     },
     "execution_count": 20,
     "metadata": {},
     "output_type": "execute_result"
    }
   ],
   "source": [
    "response['filename']"
   ]
  },
  {
   "cell_type": "code",
   "execution_count": null,
   "metadata": {},
   "outputs": [],
   "source": []
  }
 ],
 "metadata": {
  "kernelspec": {
   "display_name": "Python 3",
   "language": "python",
   "name": "python3"
  },
  "language_info": {
   "codemirror_mode": {
    "name": "ipython",
    "version": 3
   },
   "file_extension": ".py",
   "mimetype": "text/x-python",
   "name": "python",
   "nbconvert_exporter": "python",
   "pygments_lexer": "ipython3",
   "version": "3.10.14"
  }
 },
 "nbformat": 4,
 "nbformat_minor": 2
}
